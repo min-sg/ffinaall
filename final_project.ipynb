{
 "cells": [
  {
   "cell_type": "markdown",
   "id": "mobile-johns",
   "metadata": {},
   "source": [
    "# Load Packages"
   ]
  },
  {
   "cell_type": "code",
   "execution_count": 44,
   "id": "cosmetic-bolivia",
   "metadata": {},
   "outputs": [],
   "source": [
    "# scikit-learn, scikit-image are needed\n",
    "# If those packages are missed, then, install them by using the following command\n",
    "# pip install scikit-learn scikit-image\n",
    "\n",
    "import os\n",
    "\n",
    "import sklearn.datasets\n",
    "import sklearn.linear_model\n",
    "import sklearn.svm\n",
    "import sklearn.tree\n",
    "import sklearn.ensemble\n",
    "import sklearn.model_selection\n",
    "import sklearn.metrics\n",
    "\n",
    "import skimage.io\n",
    "import skimage.transform\n",
    "import skimage.color\n",
    "\n",
    "import numpy as np\n",
    "\n",
    "import matplotlib.pyplot as plt \n",
    "%matplotlib inline"
   ]
  },
  {
   "cell_type": "markdown",
   "id": "modern-columbia",
   "metadata": {},
   "source": [
    "# Load Additional Packages (if you want to use other modules in Scikit Learn)"
   ]
  },
  {
   "cell_type": "code",
   "execution_count": 45,
   "id": "racial-growing",
   "metadata": {},
   "outputs": [],
   "source": [
    "# Load additional scikit learn packages! if you need\n",
    "from sklearn.model_selection import train_test_split\n",
    "from sklearn.ensemble import RandomForestClassifier\n",
    "from sklearn.model_selection import GridSearchCV\n",
    "from sklearn.ensemble import RandomForestRegressor\n",
    "from sklearn.preprocessing import StandardScaler\n",
    "from sklearn.linear_model import LogisticRegression\n",
    "from sklearn.metrics import classification_report,accuracy_score, confusion_matrix"
   ]
  },
  {
   "cell_type": "markdown",
   "id": "immediate-briefs",
   "metadata": {},
   "source": [
    "# Load Data Points (Do not modify the following block)"
   ]
  },
  {
   "cell_type": "code",
   "execution_count": null,
   "id": "surgical-background",
   "metadata": {
    "scrolled": false
   },
   "outputs": [],
   "source": [
    "image_size = 64\n",
    "labels = ['glioma_tumor','meningioma_tumor','no_tumor','pituitary_tumor']\n",
    "\n",
    "images = []\n",
    "y = []\n",
    "for i in labels:\n",
    "    folderPath = os.path.join('./tumor_dataset/Training',i)\n",
    "    for j in os.listdir(folderPath):\n",
    "        img = skimage.io.imread(os.path.join(folderPath,j),)\n",
    "        img = skimage.transform.resize(img,(image_size,image_size))\n",
    "        img = skimage.color.rgb2gray(img)\n",
    "        images.append(img)\n",
    "        y.append(i)\n",
    "        \n",
    "images = np.array(images)\n",
    "\n",
    "X = images.reshape((-1, image_size**2))\n",
    "y = np.array(y)"
   ]
  },
  {
   "cell_type": "code",
   "execution_count": null,
   "id": "5ff63d2b",
   "metadata": {
    "scrolled": false
   },
   "outputs": [],
   "source": [
    "j = 0\n",
    "for i in range(len(y)):\n",
    "    if y[i] in labels[j]:\n",
    "        plt.imshow(images[i])\n",
    "        plt.title(\"[Index:{}] Label:{}\".format(i, y[i]))\n",
    "        plt.show()\n",
    "        j += 1\n",
    "    if j >= len(labels):\n",
    "        break"
   ]
  },
  {
   "cell_type": "code",
   "execution_count": null,
   "id": "cc23d262",
   "metadata": {},
   "outputs": [],
   "source": [
    "X_train, X_test, y_train, y_test = sklearn.model_selection.train_test_split(X, y, stratify=y, test_size=0.3, random_state=42)"
   ]
  },
  {
   "cell_type": "markdown",
   "id": "isolated-airfare",
   "metadata": {},
   "source": [
    "# Classification with Scikit Learn Library (Programming Assignment)\n",
    "### Variable Explanation (Do not change variable names)\n",
    "- 'X_train' is feature vectors of training dataset\n",
    "- 'y_train' is target labels of training dataset\n",
    "- 'X_test' is feature vectors of test dataset\n",
    "- 'y_test' is target labels of test dataset\n",
    "- 'y_pred' was initialized as zero vectors and fill 'y_pred' with predicted labels\n",
    "\n",
    "### Find the best model and hyperparameter for tumor classification\n",
    "- Find the best random seed as well and fix it to reproduce your result on other computers."
   ]
  },
  {
   "cell_type": "code",
   "execution_count": null,
   "id": "funded-playing",
   "metadata": {},
   "outputs": [],
   "source": [
    "#TODO\n",
    "#1. Create a classification object in scikit learn package (such as perceptron, logistic regression, or other classification algorithms)\n",
    "#2. Fit the object to training dataset\n",
    "#3. Predict the label of test data point (X_test)\n",
    "# - Do not change the variable name \"y_pred\"\n",
    "#n_estimators=5000, random_state=3,\n",
    "                             # max_features=15, max_leaf_nodes=10000, oob_score=True\n",
    "for i in range(1, 1001, 10):\n",
    "    model = RandomForestClassifier(n_estimators=i, class_weight=None, criterion='gini',\n",
    "                           max_depth=None, max_features='sqrt', max_leaf_nodes=None,\n",
    "                           min_samples_leaf=5, min_samples_split=7,\n",
    "                           min_weight_fraction_leaf=0.0,\n",
    "                           random_state=None)\n",
    "    model.fit(X_train, y_train)\n",
    "    print(i,\"번째훈련 세트 정확도: {:.3f}\".format(model.score(X_train, y_train)) )\n",
    "    print(\"테스트 세트 정확도: {:.3f}\".format(model.score(X_test, y_test)) )\n",
    "    #print(\"OOB 샘플의 정확도: {:.3f}\".format(model.oob_score_) )\n",
    "\n",
    "#params = {'max_depth' : [10,15,20],\n",
    "#          'max_samples' : [0.2, 0.8, 1],\n",
    "#          'max_features' : [0.2, 0.8, 1.3]\n",
    "#          }\n",
    "\n",
    "#RandomForestClassifier 객체 생성 후 GridSearchCV 수행\n",
    "#rf_clf = RandomForestClassifier(random_state = 221, n_jobs = -1)\n",
    "#grid_cv = GridSearchCV(rf_clf,\n",
    "#                       param_grid = params,\n",
    "#                       cv = 3, \n",
    "#                       n_jobs = -1)\n",
    "#grid_cv.fit(X_train, y_train)\n",
    "\n",
    "#print('최적 하이퍼 파라미터: ', grid_cv.best_params_)\n",
    "#print('최고 예측 정확도: {:.4f}'.format(grid_cv.best_score_))\n",
    "\n",
    "#model.fit(X_train, y_train)\n",
    "\n",
    "# 평가\n",
    "\n",
    "#y_pred = model.predict(X_test)\n",
    "\n",
    "from sklearn.neighbors import KNeighborsClassifier\n",
    "knn_clf1 = KNeighborsClassifier(n_neighbors=1)\n",
    "from sklearn.svm import SVC\n",
    "svc_clf1 = SVC(kernel='rbf', C=10, coef0=5,degree=9,gamma=1.2,probability=True)\n",
    "svc_clf2 = SVC(kernel='rbf', C=10, coef0=8,degree=3,gamma=1.4,probability=True)\n",
    "svc_clf3 = SVC(kernel='rbf', C=10, coef0=12,degree=6,gamma=1.0,probability=True)\n",
    "svc_clf4 = SVC(kernel='rbf', C=10, coef0=10,degree=11,gamma=1.8,probability=True) \n",
    "from sklearn.ensemble import ExtraTreesClassifier\n",
    "xtc_clf1 = ExtraTreesClassifier(n_estimators=3, random_state=1898,criterion='entropy')\n",
    "xtc_clf2 = ExtraTreesClassifier(n_estimators=3, random_state=7567,criterion='entropy')\n",
    "xtc_clf3 = ExtraTreesClassifier(n_estimators=3, random_state=9244,criterion='entropy')\n",
    "xtc_clf4 = ExtraTreesClassifier(n_estimators=3, random_state=5147,criterion='entropy')\n",
    "xtc_clf5 = ExtraTreesClassifier(n_estimators=3, random_state=6161,criterion='entropy')\n",
    "from sklearn.ensemble import VotingClassifier\n",
    "vote = VotingClassifier(estimators=[\n",
    "                                    ('KNN1',knn_clf1),\n",
    "                                    ('SVC1',svc_clf1),\n",
    "                                    ('SVC2',svc_clf2),\n",
    "                                    ('SVC3',svc_clf3),\n",
    "                                    ('SVC4',svc_clf4),\n",
    "                                    ('XTC1',xtc_clf1),\n",
    "                                    ('XTC2',xtc_clf2),\n",
    "                                    ('XTC3',xtc_clf3),\n",
    "                                    ('XTC4',xtc_clf4),\n",
    "                                    ('XTC5',xtc_clf5),\n",
    "                                   ])\n",
    "vote.fit(X_train, y_train)\n",
    "y_pred = vote.predict(X_test)\n",
    "\n"
   ]
  },
  {
   "cell_type": "code",
   "execution_count": null,
   "id": "79a8aab9",
   "metadata": {},
   "outputs": [],
   "source": [
    "y_pred = model.predict(X_test)"
   ]
  },
  {
   "cell_type": "markdown",
   "id": "twenty-mistake",
   "metadata": {},
   "source": [
    "### Print accuracy (do not modify the following block)"
   ]
  },
  {
   "cell_type": "code",
   "execution_count": null,
   "id": "alien-concert",
   "metadata": {
    "scrolled": true
   },
   "outputs": [],
   "source": [
    "print('Accuracy: %.2f' % sklearn.metrics.accuracy_score(y_test, y_pred))"
   ]
  },
  {
   "cell_type": "code",
   "execution_count": null,
   "id": "e376fba7",
   "metadata": {},
   "outputs": [],
   "source": []
  }
 ],
 "metadata": {
  "kernelspec": {
   "display_name": "Python 3 (ipykernel)",
   "language": "python",
   "name": "python3"
  },
  "language_info": {
   "codemirror_mode": {
    "name": "ipython",
    "version": 3
   },
   "file_extension": ".py",
   "mimetype": "text/x-python",
   "name": "python",
   "nbconvert_exporter": "python",
   "pygments_lexer": "ipython3",
   "version": "3.11.5"
  }
 },
 "nbformat": 4,
 "nbformat_minor": 5
}
